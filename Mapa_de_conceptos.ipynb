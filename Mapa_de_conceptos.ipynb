{
  "nbformat": 4,
  "nbformat_minor": 0,
  "metadata": {
    "colab": {
      "name": "Mapa de conceptos.ipynb",
      "version": "0.3.2",
      "provenance": [],
      "include_colab_link": true
    },
    "kernelspec": {
      "name": "python3",
      "display_name": "Python 3"
    }
  },
  "cells": [
    {
      "cell_type": "markdown",
      "metadata": {
        "id": "view-in-github",
        "colab_type": "text"
      },
      "source": [
        "<a href=\"https://colab.research.google.com/github/Aranguri/causal-map/blob/master/Mapa_de_conceptos.ipynb\" target=\"_parent\"><img src=\"https://colab.research.google.com/assets/colab-badge.svg\" alt=\"Open In Colab\"/></a>"
      ]
    },
    {
      "metadata": {
        "id": "-iFfPeIFhhY2",
        "colab_type": "text"
      },
      "cell_type": "markdown",
      "source": [
        "# Puntos clave\n",
        "* Si tenemos un espacio con conceptos, cómo diferenciamos entre conceptos más abstractos y más concretos? Está bueno tener todos los conceptos en un mismo espacio? O sería mejor tener diferentes espacios para conceptos más y más abstractos? (Relacionado con esto, podría ser que la cantidad de espacios que tenemos que subir sea proporcional a que tanta conciencia ponemos en una tarea. Si hacemos una tarea estando en el espacio más concreto, puede que lo sintamos como si fuera algo inconsciente/intuitivo.)\n",
        "* El lenguaje es discreto o continuo? Muchas variables, como la entonación y los gestos, pueden darnos suficiente expresividad para comunicar lo que queremos, pero es curioso que las palabras usadas en el lenguaje escrito son discretas ({muy bueno, bueno, normal, malo, muy malo}).\n",
        "* Si definís una palabra con respecto a su contexto, estás definiendo una palabra con respecto a otras palabras. (Una conexión de una palabra a otra palabra significa que son conceptos similares.) Y seguro tenés varias definiciones que son circulares. Me lo imagino como una telaraña que va de palabra a palabra. Posiblemente no tengás axiomas de donde partís, sino que todo se relaciona entre sí, y para saber el significado de \"casa\" usas \"familia\" y para saber el significado de \"familia\" usas \"casa.\" Cada vez que experimentamos algo, asociamos una \"experiencia\" a un set de palabras S y después asociamos esa \"experiencia\" al set de palabras P con un peso dado por la relación entre Pi y Sj. De esa forma, vas propagando la relación en toda tu red. Entonces, terminás teniendo una red que dada ciertas palabras te da una experiencia y dada una experiencia te da ciertas palabras. Una experiencia la podés definir como algo sensorial (eg imagen, audio, tacto.)\n",
        "* En programación funcional podés reducir expresiones por ejemplo 3²-ln(1)e²-2\\*2² es lo mismo que 1. De alguna forma tenes una clase donde tenés varios conceptos equivalentes, y dependiendo de la operación que querés hacer usas un concepto u otro en esa clase. (como en matemática, que siempre estás cambiando expresiones por otras expresiones equivalentes)\n",
        "\n",
        "# Texto\n",
        "Santi: Algo divertido que se me ocurrió es intentar entender como los humanos aprenden cosas relacionandolas con cosas previas. Tal vez se pueda pensar un modelo matemático simple donde cada concepto es una combinación lineal de diferentes cualidades. Esas cualidades son las unidades mínimas. Cuando un concepto no es una combinación lineales de ninguna cualidad previa, se crea una nueva cualidad (habría que ver como hacmeos esto.) Que te parece?\n",
        "\n",
        "Nico: Me hace acordar a un video de Numberphile en el que un profesor explicaba como Gödel \"codifico\" la matematica con numeros, para despues poder probar que no habia un unico sistema de axiomas finito que cerrase bien por todos lados. La descripcion era siperficial, y esto es segun lo que me acuerdo nomas, pero tenia unidades basicas, que eran los axiomas codificados como primos, y las proposiciones se construian como productos entre ellos. No son combinaciones lineales, pero bueno, es lo que me esta resonando.\n",
        "\n",
        "Santi: Interesante. Lo que decías que las proposiciones se construían como producto de primos se puede relacionar con que en este sistema el producto de conceptos sea un vector que represente ambos conceptos (e.g, \"presidente\" * \"previo\" = \"Cristina\") o que puedas restar y sumar conceptos (e.g, \"hombre\" - \"mujer\" + \"rey\" = \"reina\"). Todo sería con operaciones con vectores. O sea que tendría que haber un espacio que satisfaga estas operaciones\n",
        "\n",
        "Nico: Suena super dificil, porque tenes que decidir donde pararias de usar conceptos abstractos para pasar a otros concretos. O sea, cuando es que podes construir un concepto de otros, y cuando naturalmente el concepto es atomico?\n",
        "Ademas, otro desafio es el tema de que una misma palabra puede significar muchas cosas distintas en una lengua como el castellano. Asi, habria que diseñar un lenguaje en el que a cada concepto le corresponda una sola palabra.\n",
        "Y tenes el tema de los grados: lo peor, malisimo, muy malo, malo, normal, bueno, muy bueno, buenisimo, lo mejor. No son cosas discretas, y hay muchisimos grises que llenar.\n",
        "Tal vez te sirva para profundizar en como podria manifestarse ese modelo.\n",
        "\n",
        "Santiago: Interesante! Tal vez no existe esto de que haya algunos conceptos abstractos y otros concretos. Por más de que esté viendo un árbol, el pensamiento que está en mi cabeza es una abstracción.\n",
        "Santiago: Es verdad esto que decís de los grados de malisimo, malo, muy malo. Una opción podría ser construir un modelo que descomponga a cada concepto en adjetivos calificativos y sustantivos\n",
        "Santiago: Es interesante que el lenguaje no es muy continuo. Es decir, vos decís muy bueno, buenísimo, bueno. Pero no decimos que algo es .63 de bueno\n",
        "Santiago: Tal vez eso dice que los humanos no tenemos la capacidad para diferenciar esos detalles, entonces el lenguaje nunca tuvo la necesidad de esa exactitud\n",
        "Santiago: Claro. Tenes razon!\n",
        "\n",
        "Nico: No se, fijate que en el lenguaje tambien importan el contexto, la entonación, el entorno... hay expresividad pero no todo se transmite por escrito\n",
        "Nico: Lo que yo decia de conceptos abstractos y concretos era mas que nada para diferenciar entre las palabras del lenguaje y esas cosas que solo vamos a poder decir usando mas que una. Tal vez seria mejor decir simples y compuestos. Sin embargo, se mantiene que resulta .muy dificil la eleccion, ver cual cual concepto es atomico y cual necesita de varias palabras para expresarse\n",
        "Nico: Y fijate que en nuestro lenguaje algo muy poderoso son las comparaciones y metaforas, que nos permiten decir cosas que no sabemos del todo bien como expresar a partir de otras ideas... sin necesitar ni siquiera una palabra para el concepto\n",
        "Nico: Y hay mas recursos que dan expresividad y estudia la literatura, que tal vez ayudan a cubrir ese espectro de grados de las cosas. Pero nuevamente, el lenguaje no es claro al 100 por ciento, y decir buenisimo puede significar lo que crees, o lo contrario con sarcasmo, etc.\n",
        "Nico: Aca me dice mi hermano que hay un lenguaje que se llama Lojban que intenta no tener ninguna ambiguedad, tal vez te interese\n",
        "\n",
        "Santiago: Es verdad esto, no lo había tenido en cuenta\n",
        "Santiago: Claro. Una forma de pensar que se me ocurre es que si decís nada, entonces te podes estar refiriendo a todo (me imagino un círculo completo). A medida que vas diciendo más palabras, vas acotando las cosas a las que te referís (me imagino una pizza que solo tiene una porcion.) Podríamos decir que un concepto atómico sería un infinitesimal en este círculo, que podría ser el árbol que está en x lugar en y tiempo.\n",
        "Santiago: Pienso que lo que hacmeos cuando nos comunicamos es acotar el círculo lo suficiente hasta que quede una porción lo suficientemente chica como para que el que nos escucha nos entienda\n",
        "Santiago: Es muy interesante esto. Las comparaciones parecen permite al humano transferir el conocimiento de un concepto a otro. Ponele que conoces el valor de unas cuantas propiedades de un concepto A y aparece un concepto B que, cuando te fijas en tres de sus propiedades, ves que tiene un valor similar al concepto A. Lo que hacemos como humanos es extender el conocimiento de A hacia B. Como funcionará esto? Porque puede ser que nos estemos equivocando y que solo compartan esas propiedades. Tal vez hay algún algoritmo que detecta que tan similares son dos conceptos.\n",
        "\n",
        "Nico: Relacionado a esto, escuche que hoy en dia (y hay computacion metida en esto), se trabaja en hacer diccionarios por referencia al contexto del uso de las palabras para ver el significado, mas que los que conocemos de definiciones mas parecidas a las de matematica\n",
        "Nico: En esos diccionarios importa con cuales palabras apareces cerca seguido, o cosas por el estilo, y hay redes neuronales que se ocupan de reunir la data y hacer un mapa\n",
        "Nico: No se hasta que punto no es que en realidad son los mismos conceptos que tenemos no mas que metáforas de las cosas que experimentamos, y que por referencia estamos habituados a que signifiquen una infinitesimal porción de lo que hay para significar (como decías antes), y lo suficientemente chica como para que podemos comunicarnos.\n",
        "Nico: Nuevamente, llamo la atención a como estos nuevos diccionarios trabajarían mas por relación que por definición, si lo puedo decir así\n",
        "\n",
        "Santiago: Opa, es muy divertido esto. Me suena interesante que si definís una palabra con respecto a su contexto, estás definiendo una palabra con respecto a otras palabras. (Una conexión de una palabra a otra palabra significa que son conceptos similares.) Y seguro tenés varias definiciones que son circulares. Me lo imagino como una telaraña que va de palabra a palabra. Posiblemente no tengás axiomas de donde partís, sino que todo se relaciona entre sí, y para saber el significado de \"casa\" usas \"familia\" y para saber el significado de \"familia\" usas \"casa.\" Cada vez que experimentamos algo, asociamos una \"experiencia\" a un set de palabras S y después asociamos esa \"experiencia\" al set de palabras P con un peso dado por la relación entre Pi y Sj. De esa forma, vas propagando la relación en toda tu red. Entonces, terminás teniendo una red que dada ciertas palabras te da una \"experiencia\" y dada una experiencia te da ciertas palabras. Una experiencia la podés definir como algo sensorial (eg imagen, audio, tacto.) Me pregunto cuál sería una buena forma de inicializar esta red. También me pregunto como sería el decaimiento, porque queremos irnos olvidando de cosas a medida que pasa el tiempo\n",
        "\n",
        "Nico: Nunca lo habia pensado tan profundo. Pero dado que aprendemos mucho a traves de sensaciones, y las palabras que usamos las asociamos a experiencias, estaria bueno un diccionario que ademas de relacionar a palabras relacione a audios, videos, fragmentos de libros, etc... seria super potente, y un diccionario mucho mas cercano a nosotros que los habituales. Muy linda idea.\n",
        "\n",
        "Santiago: Es verdad eso. De alguna forma, internet/Google son ese diccionario. Pero me imagino que en el cerebro está todo más entre conectado, en comparación con páginas web donde tenes un video por un lado, texto por el otro, etc.\n",
        "Santiago: es interesante lo que pasa cuando tenemos que usar la información en nuestro cerebro para inferir cosas en la vida cotidiana. No es que hacemos una búsqueda, sino que vamos haciendo una cadena de pensamientos, en donde pensamientos consecutivos se relacionan entre sí. Entonces en vez de tener la respuesta correcta mediante una sola búsqueda, tenemos un árbol dodne vamos pasando de pensamiento a pensamiento cortando las bifurcaciones que no nos sirven\n",
        "\n",
        "Nico: No se mucho del funcionamiento interno del cerebro; pero si vale lo que escuche tenemos distintos \"modos\" de pensar: uno que es muy bueno relacionando cosas, pero pesimo calculando, y otro que es al reves. Por esoes que cuando estas matandote resolviendo un problema y no te sale (estarias calculando a full) esta bueno tomarse un recreo, o dormir algo (asi pasas a pensar relacionando y se te pueden ocurrir otras ideas) para volver despues a lo que estabas haciendo con ideas nuevas y recien ahi seguir pensando (calculando)\n",
        "Nico: Si, y es interesante el rol de la computacion en conectarlo: por ejemplo, aprendizaje automatico para armar estadisticas, o imitar comportamiento de personas en internet, etc.\n",
        "\n",
        "Santiago: Interesante! En principio parece que calcular no inhibe a relacionar. Pero si pensás a relacionar como hacer cálculos con mucha información y con poca precisión, y pensás a calcular como cálculos con poca información y mucha precision, tiene sentido que sean diferentes modos de pensar. Me pregunto si conscientemente podemos ponernos a pensar en modo \"relacionar\" o necesitamos hacerlo indirectamente. Suena raro que no tengamos control total de las funcionalidades del cerebro\n",
        "\n",
        "Nico: Si, me referia a los \"modos\" como decís. Honestamente no se, lo que había escuchado es que como calcular lleva esfuerzo, no queremos hacerlo a menos que sea estrictamente necesario, y sino hacemos las cosas automaticamente. Supongo que para problemas dificiles nos vemos forzados a calcular y aunque eso es bueno para resolverlo tambien inhibe el que se nos ocurran cosas locas mientras que lo hacemos. Pero bueno, no se nada del tema.\n",
        "Escuche que la idea de Freud de que no conocemos nuestro inconsciente causo tanta polemica por eso: es muy dificil de aceptar para nosotros, que querriamos decir que si nos conocemos.\n",
        "\n",
        "Santiago: Tiene sentido eso de que requiramos mucho esfuerzo para calcular, porque parece que calcular es una tarea más moderna que relacionar\n",
        "Santiago: Es interesante lo de que no conozcamos al inconsciente. Teniendo en cuenta la eficiencia, tiene sentido que solo nos podamos enfocar en los pensamientos y no en todos los detalles del funcionamiento de nuestro cerebro. Si no, no nos podríamos concentrar. Pero no entiendo porque no tenemos la opción de decir \"okay, ahora que no estoy en riesgo, quiero ver como funciona mi cerebro.\"\n",
        "Santiago: Me suena que entender es bueno: la evolución hizo humanos racionales\n",
        "\n",
        "Nico: Pero al mismo tiempo... calcular no es tambien relacionar, pero teniendo mas control sobre como lo hacemos? Algo asi como no dejar a la mente vagar, y ponerle el foco a algo? Me pareció curioso\n",
        "Nico: Tal vez en eso este el trabajo de la interioridad, y el objetivo de la psicologia\n",
        "\n",
        "Santiago: Claro. Tienen sus similitudes. Vos pensás que calcular y relacionar usan las mismas operaciones básicas? Porque tal vez puede ser que cada uno tenga sus operaciones optimizadas para ser mas eficiente\n",
        "Santiago: Me copo lo de relacionar interioridad con inconsciente\n",
        "\n",
        "Nico: En programacion funcional se habla de que una expresion se \"reduce\".\n",
        "Cuando vos tenes 3²-ln(1)e²-2\\*2², es lo mismo eso que 1. Y por eso lo podes cambiar, a 1 que es mas simple. En realidad, habian dos conceptos relacionados previamente y elegiste uno. Me estaba imaginando eso cuando te dije que de alguna forma relacionar es calcular.\n",
        "\n",
        "Santiago: Cuando decís habían dos conceptos relacionados te referís a \"3²-ln(1)e²-2\\*2\" y a \"1\"? En el caso de que si, suena muy divertido, porque de alguna forma tenes una clase donde tenes un montón de conceptos que son equivalentes, y dependiendo de la operación que querés hacer usas un concepto u otro en esa clase. (como en matemática, que siempre estás cambiando expresiones por otras expresiones equivalentes)\n",
        "Santiago: Tal vez, en vez de tener una clase si dos conceptos son idénticos, tenes una clase si dos conceptos tienen una propiedad que es idéntica. Por ejemplo, dos vacas y dos camellos son iguales dentro de la clase de la propiedad cardinalidad.\n",
        "Santiago: Y en ese caso una propiedad termina siendo una abstracción de tu concepto"
      ]
    }
  ]
}